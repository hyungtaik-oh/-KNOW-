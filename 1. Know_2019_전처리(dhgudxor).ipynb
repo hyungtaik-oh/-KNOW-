{
 "cells": [
  {
   "cell_type": "code",
   "execution_count": 1,
   "id": "48938949",
   "metadata": {},
   "outputs": [],
   "source": [
    "import optuna\n",
    "import warnings\n",
    "import gc\n",
    "import os\n",
    "import random\n",
    "import sys\n",
    "\n",
    "import numpy as np\n",
    "import pandas as pd\n",
    "import seaborn as sns\n",
    "import matplotlib.pyplot as plt\n",
    "\n",
    "from sklearn.model_selection import train_test_split\n",
    "from datetime import datetime\n",
    "from glob import glob\n",
    "from tqdm import tqdm\n",
    "\n",
    "warnings.filterwarnings(action = 'ignore')"
   ]
  },
  {
   "cell_type": "code",
   "execution_count": 2,
   "id": "36446398",
   "metadata": {},
   "outputs": [],
   "source": [
    "train_2017 = []\n",
    "train_2018 = []\n",
    "train_2019 = []\n",
    "train_2020 = []\n",
    "\n",
    "for i, path in enumerate(sorted(glob(\"Data/train/KNOW*.csv\"))):\n",
    "    if i == 0:\n",
    "        train_2017 = pd.read_csv(path)\n",
    "        pass\n",
    "    elif i==1:\n",
    "        train_2018 = pd.read_csv(path)\n",
    "        pass\n",
    "    elif i==2:\n",
    "        train_2019 = pd.read_csv(path)\n",
    "        pass\n",
    "    else:\n",
    "        train_2020 = pd.read_csv(path)\n",
    "        pass\n",
    "    \n",
    "test_2017 = []\n",
    "test_2018 = []\n",
    "test_2019 = []\n",
    "test_2020 = []\n",
    "\n",
    "for i, path in enumerate(sorted(glob(\"Data/test/KNOW*.csv\"))):\n",
    "    if i == 0:\n",
    "        test_2017 = pd.read_csv(path)\n",
    "        pass\n",
    "    elif i==1:\n",
    "        test_2018 = pd.read_csv(path)\n",
    "        pass\n",
    "    elif i==2:\n",
    "        test_2019 = pd.read_csv(path)\n",
    "        pass\n",
    "    else:\n",
    "        test_2020 = pd.read_csv(path)\n",
    "        pass"
   ]
  },
  {
   "cell_type": "markdown",
   "id": "3746c91d",
   "metadata": {},
   "source": [
    "### 2019년 데이터 결측치 처리"
   ]
  },
  {
   "cell_type": "markdown",
   "id": "e1f364f6",
   "metadata": {},
   "source": [
    "- 중앙값으로 결측치 처리\n",
    "- data leakage 고려하여 train 데이터로 결측치 처리\n",
    "- bq 컬럼에만 결측치 존재"
   ]
  },
  {
   "cell_type": "code",
   "execution_count": 3,
   "id": "4d361eaf",
   "metadata": {},
   "outputs": [],
   "source": [
    "for col in train_2019:\n",
    "        train_2019[col].replace(' ', np.nan, inplace = True)\n",
    "        if col != 'knowcode':\n",
    "            test_2019[col].replace(' ', np.nan, inplace = True)"
   ]
  },
  {
   "cell_type": "code",
   "execution_count": 4,
   "id": "78e8e1ad",
   "metadata": {},
   "outputs": [],
   "source": [
    "train_2019.loc[(train_2019['bq4'] == 2) & (train_2019['bq4_1a'].isnull()), 'bq4_1a'] = '없음'\n",
    "test_2019.loc[(test_2019['bq4'] == 2) & (test_2019['bq4_1a'].isnull()), 'bq4_1a'] = '없음'\n",
    "train_2019.loc[(train_2019['bq4'] == 2) & (train_2019['bq4_1b'].isnull()), 'bq4_1b'] = '없음'\n",
    "train_2019.loc[(train_2019['bq4'] == 2) & (train_2019['bq4_1c'].isnull()), 'bq4_1c'] = '없음'\n",
    "test_2019.loc[(test_2019['bq4'] == 2) & (test_2019['bq4_1b'].isnull()), 'bq4_1b'] = '없음'\n",
    "test_2019.loc[(test_2019['bq4'] == 2) & (test_2019['bq4_1c'].isnull()), 'bq4_1c'] = '없음'"
   ]
  },
  {
   "cell_type": "code",
   "execution_count": 5,
   "id": "22035f50",
   "metadata": {},
   "outputs": [],
   "source": [
    "train_2019.loc[(train_2019['bq4'] == 1) & (train_2019['bq4_1a'].isnull()), 'bq4_1a'] = '없음'\n",
    "test_2019.loc[(test_2019['bq4'] == 1) & (test_2019['bq4_1a'].isnull()), 'bq4_1a'] = '없음'"
   ]
  },
  {
   "cell_type": "code",
   "execution_count": 6,
   "id": "a8f5a9d1",
   "metadata": {},
   "outputs": [],
   "source": [
    "train_2019.loc[(train_2019['bq4_1b'].isnull()), 'bq4_1b'] = '없음'\n",
    "train_2019.loc[(train_2019['bq4_1c'].isnull()), 'bq4_1c'] = '없음'\n",
    "test_2019.loc[(test_2019['bq4_1b'].isnull()), 'bq4_1b'] = '없음'\n",
    "test_2019.loc[(test_2019['bq4_1c'].isnull()), 'bq4_1c'] = '없음'"
   ]
  },
  {
   "cell_type": "code",
   "execution_count": 7,
   "id": "91da423b",
   "metadata": {},
   "outputs": [],
   "source": [
    "train_2019.loc[(train_2019['bq5'] == 2) & (train_2019['bq5_1'].isnull()),'bq5_1'] = 0\n",
    "test_2019.loc[(test_2019['bq5'] == 2) & (test_2019['bq5_1'].isnull()),'bq5_1'] = 0"
   ]
  },
  {
   "cell_type": "code",
   "execution_count": 8,
   "id": "77c5f67a",
   "metadata": {},
   "outputs": [],
   "source": [
    "train_2019.loc[(train_2019['bq5'] == 2) & (train_2019['bq5_2'].isnull()),'bq5_2'] = '없음'\n",
    "test_2019.loc[(test_2019['bq5'] == 2) & (test_2019['bq5_2'].isnull()),'bq5_2'] = '없음'"
   ]
  },
  {
   "cell_type": "code",
   "execution_count": 9,
   "id": "1b3f577f",
   "metadata": {},
   "outputs": [],
   "source": [
    "train_2019.loc[train_2019['bq5_2'].isnull(), 'bq5_2'] = '없음'\n",
    "test_2019.loc[test_2019['bq5_2'].isnull(), 'bq5_2'] = '없음'"
   ]
  },
  {
   "cell_type": "code",
   "execution_count": 10,
   "id": "ca9da7f5",
   "metadata": {},
   "outputs": [],
   "source": [
    "train_2019.loc[train_2019['bq27_1'].isnull(), 'bq27_1'] = '없음'\n",
    "test_2019.loc[test_2019['bq27_1'].isnull(), 'bq27_1'] = '없음'"
   ]
  },
  {
   "cell_type": "code",
   "execution_count": 11,
   "id": "636d0168",
   "metadata": {},
   "outputs": [],
   "source": [
    "train_2019['bq28_1'].replace('없음', np.nan, inplace = True)\n",
    "test_2019['bq28_1'].replace('없음', np.nan, inplace = True)\n",
    "train_2019['bq28_2'].replace('없음', np.nan, inplace = True)\n",
    "test_2019['bq28_2'].replace('없음', np.nan, inplace = True)"
   ]
  },
  {
   "cell_type": "code",
   "execution_count": 12,
   "id": "9d8cd72e",
   "metadata": {},
   "outputs": [],
   "source": [
    "train_2019['bq28_1'].replace(np.nan, 0,inplace = True)\n",
    "test_2019['bq28_1'].replace(np.nan, 0,inplace = True)\n",
    "train_2019['bq28_2'].replace(np.nan,0, inplace = True)\n",
    "test_2019['bq28_2'].replace(np.nan, 0,inplace = True)"
   ]
  },
  {
   "cell_type": "code",
   "execution_count": 13,
   "id": "8e5a36ed",
   "metadata": {},
   "outputs": [],
   "source": [
    "train_2019['bq29'].replace(np.nan,0, inplace = True)\n",
    "test_2019['bq29'].replace(np.nan, 0,inplace = True)"
   ]
  },
  {
   "cell_type": "code",
   "execution_count": 14,
   "id": "eeaf4fd4",
   "metadata": {},
   "outputs": [],
   "source": [
    "total_2019 = train_2019\n",
    "bq1_list = total_2019.bq1.unique()"
   ]
  },
  {
   "cell_type": "code",
   "execution_count": 15,
   "id": "adba5b4d",
   "metadata": {},
   "outputs": [],
   "source": [
    "for bq1 in bq1_list:\n",
    "    mean_bq31_1 = round(total_2019.loc[(total_2019.bq1 == bq1) & (total_2019.bq31_1.notnull())].bq31_1.apply(lambda x: int(x)).mean())\n",
    "    train_2019.loc[(train_2019.bq1 == bq1) & (train_2019.bq31_1.isnull()), 'bq31_1'] = mean_bq31_1\n",
    "    test_2019.loc[(test_2019.bq1 == bq1) & (test_2019.bq31_1.isnull()), 'bq31_1'] = mean_bq31_1\n",
    "    \n",
    "    mean_bq31_2 = round(total_2019.loc[(total_2019.bq1 == bq1) & (total_2019.bq31_2.notnull())].bq31_2.apply(lambda x: int(x)).mean())\n",
    "    \n",
    "    try:\n",
    "        mean_bq31_3 = round(total_2019.loc[(total_2019.bq1 == bq1) & (total_2019.bq31_3.notnull())].bq31_3.apply(lambda x: int(x)).mean())\n",
    "    except:\n",
    "        mean_bq31_3 = mean_bq31_2\n",
    "    \n",
    "    train_2019.loc[(train_2019.bq1 == bq1) & (train_2019.bq31_2.isnull()), 'bq31_2'] = mean_bq31_2\n",
    "    test_2019.loc[(test_2019.bq1 == bq1) & (test_2019.bq31_2.isnull()), 'bq31_2'] = mean_bq31_2\n",
    "    \n",
    "    train_2019.loc[(train_2019.bq1 == bq1) & (train_2019.bq31_3.isnull()), 'bq31_3'] = mean_bq31_3\n",
    "    test_2019.loc[(test_2019.bq1 == bq1) & (test_2019.bq31_3.isnull()), 'bq31_3'] = mean_bq31_3"
   ]
  },
  {
   "cell_type": "code",
   "execution_count": 16,
   "id": "2d647c4d",
   "metadata": {},
   "outputs": [],
   "source": [
    "train_2019[['bq18_10', 'bq20_1', 'bq22', 'bq23', 'bq24']] = train_2019[['bq18_10', 'bq20_1', 'bq22', 'bq23', 'bq24']].fillna('없다')\n",
    "test_2019[['bq18_10', 'bq20_1', 'bq22', 'bq23', 'bq24']] = test_2019[['bq18_10', 'bq20_1', 'bq22', 'bq23', 'bq24']].fillna('없다')"
   ]
  },
  {
   "cell_type": "code",
   "execution_count": 17,
   "id": "89d38f07",
   "metadata": {},
   "outputs": [],
   "source": [
    "train_2019['bq30'] = train_2019['bq30'].fillna(int(train_2019['bq30'].mode()))\n",
    "test_2019['bq30'] = test_2019['bq30'].fillna(int(train_2019['bq30'].mode()))"
   ]
  },
  {
   "cell_type": "code",
   "execution_count": 18,
   "id": "49defb2d",
   "metadata": {},
   "outputs": [],
   "source": [
    "for col in (train_2019.isnull().sum().loc[train_2019.isnull().sum() > 0]).index:\n",
    "    train_2019[col] = train_2019[col].fillna(int(train_2019[col].mode()))\n",
    "    test_2019[col] = test_2019[col].fillna(int(train_2019[col].mode()))    "
   ]
  },
  {
   "cell_type": "code",
   "execution_count": 19,
   "id": "5a0af45c",
   "metadata": {},
   "outputs": [],
   "source": [
    "test_2019.loc[test_2019['bq31_3'].isnull(), 'bq31_3'] = int(train_2019['bq31_3'].mode())"
   ]
  },
  {
   "cell_type": "code",
   "execution_count": 20,
   "id": "f39d26bf",
   "metadata": {
    "scrolled": true
   },
   "outputs": [],
   "source": [
    "train_2019.loc[train_2019['bq6'].str.contains('[가-힣]', na = False), ['bq6']] = int(train_2019['bq6'].mode())\n",
    "train_2019.loc[train_2019['bq7'].str.contains('[가-힣]', na = False), ['bq7']] = int(train_2019['bq7'].mode())\n",
    "train_2019.loc[train_2019['bq8_3'].str.contains('[가-힣]', na = False), ['bq8_3']] = int(train_2019['bq8_3'].mode())\n",
    "train_2019.loc[train_2019['bq9'].str.contains('[가-힣]', na = False), ['bq9']] = int(train_2019['bq9'].mode())\n",
    "train_2019.loc[train_2019['bq10'].str.contains('[가-힣]', na = False), ['bq10']] = int(train_2019['bq10'].mode())\n",
    "train_2019.loc[train_2019['bq11'].str.contains('[가-힣]', na = False), ['bq11']] = int(train_2019['bq11'].mode())\n",
    "train_2019.loc[train_2019['bq12_4'].str.contains('[가-힣]', na = False), ['bq12_4']] = int(train_2019['bq12_4'].mode())\n",
    "\n",
    "train_2019.loc[train_2019['bq20'].str.contains('[가-힣]', na = False), ['bq20']] = int(train_2019['bq20'].mode())\n",
    "test_2019.loc[test_2019['bq20'].str.contains('[가-힣]', na = False), ['bq20']] = int(train_2019['bq20'].mode())\n",
    "\n",
    "train_2019.loc[train_2019['bq21_3'].str.contains('[가-힣]', na = False), ['bq21_3']] = int(train_2019['bq21_3'].mode())\n",
    "test_2019.loc[test_2019['bq21_3'].str.contains('[가-힣]', na = False), ['bq21_3']] = int(train_2019['bq21_3'].mode())\n",
    "\n",
    "train_2019.loc[train_2019['bq25'].str.contains('[가-힣]', na = False), ['bq25']] = int(train_2019['bq25'].mode())\n",
    "\n",
    "train_2019.loc[train_2019['bq27'].str.contains('[가-힣]', na = False), ['bq27']] = int(train_2019['bq27'].mode())\n",
    "test_2019.loc[test_2019['bq27'].str.contains('[가-힣]', na = False), ['bq27']] = int(train_2019['bq27'].mode())\n",
    "\n",
    "test_2019.loc[test_2019['bq19'].str.contains('[가-힣]', na = False), ['bq19']] = int(train_2019['bq19'].mode())"
   ]
  },
  {
   "cell_type": "code",
   "execution_count": 21,
   "id": "9b589413",
   "metadata": {},
   "outputs": [],
   "source": [
    "for n, x in enumerate(train_2019['bq25']) : \n",
    "    if train_2019['bq25'][n] == '1':\n",
    "        pass\n",
    "    elif train_2019['bq25'][n] == '2':\n",
    "        pass\n",
    "    else :\n",
    "        train_2019['bq25'][n] = int(train_2019['bq25'].mode())"
   ]
  },
  {
   "cell_type": "code",
   "execution_count": 22,
   "id": "7f1d46f9",
   "metadata": {},
   "outputs": [],
   "source": [
    "for n, x in enumerate(test_2019['bq25']) : \n",
    "    if test_2019['bq25'][n] == '1':\n",
    "        pass\n",
    "    elif test_2019['bq25'][n] == '2':\n",
    "        pass\n",
    "    else :\n",
    "        test_2019['bq25'][n] = int(test_2019['bq25'].mode())"
   ]
  },
  {
   "cell_type": "markdown",
   "id": "7d1f370c",
   "metadata": {},
   "source": [
    "### 2019년 데이터 object 컬럼 처리 "
   ]
  },
  {
   "cell_type": "code",
   "execution_count": 23,
   "id": "280e5bc9",
   "metadata": {},
   "outputs": [],
   "source": [
    "convert = []\n",
    "for col in train_2019.select_dtypes('object'):\n",
    "    if train_2019[col].nunique() < 20:\n",
    "        train_2019[col] = train_2019[col].astype(float)\n",
    "\n",
    "for col in ['bq30', 'bq31_1', 'bq31_2', 'bq31_3']:\n",
    "    train_2019[col] = train_2019[col].astype(float)"
   ]
  },
  {
   "cell_type": "code",
   "execution_count": 24,
   "id": "83bcd68d",
   "metadata": {},
   "outputs": [],
   "source": [
    "convert = []\n",
    "for col in test_2019.select_dtypes('object'):\n",
    "    if test_2019[col].nunique() < 20:\n",
    "        test_2019[col] = test_2019[col].astype(float)\n",
    "\n",
    "for col in ['bq30', 'bq31_1', 'bq31_2', 'bq31_3']:\n",
    "    test_2019[col] = test_2019[col].astype(float)"
   ]
  },
  {
   "cell_type": "code",
   "execution_count": 25,
   "id": "9e1a7919",
   "metadata": {},
   "outputs": [],
   "source": [
    "train_2019.to_csv('Data/train/1.preprocessing_train_2019.csv', index = False)\n",
    "test_2019.to_csv('Data/test/1.preprocessing_test_2019.csv', index = False)"
   ]
  }
 ],
 "metadata": {
  "kernelspec": {
   "display_name": "Python 3",
   "language": "python",
   "name": "python3"
  },
  "language_info": {
   "codemirror_mode": {
    "name": "ipython",
    "version": 3
   },
   "file_extension": ".py",
   "mimetype": "text/x-python",
   "name": "python",
   "nbconvert_exporter": "python",
   "pygments_lexer": "ipython3",
   "version": "3.6.9"
  }
 },
 "nbformat": 4,
 "nbformat_minor": 5
}
