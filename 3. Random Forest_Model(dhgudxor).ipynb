{
 "cells": [
  {
   "cell_type": "code",
   "execution_count": 1,
   "id": "b1d90bb7",
   "metadata": {},
   "outputs": [],
   "source": [
    "import warnings\n",
    "import gc\n",
    "import os\n",
    "import random\n",
    "import sys\n",
    "\n",
    "import numpy as np\n",
    "import pandas as pd\n",
    "import seaborn as sns\n",
    "import matplotlib.pyplot as plt\n",
    "\n",
    "from datetime import datetime\n",
    "from glob import glob\n",
    "from tqdm import tqdm\n",
    "\n",
    "from sklearn.model_selection import train_test_split\n",
    "from sklearn.preprocessing import MinMaxScaler\n",
    "from sklearn.ensemble import RandomForestClassifier\n",
    "\n",
    "from sklearn.metrics import accuracy_score, f1_score\n",
    "\n",
    "warnings.filterwarnings(action = 'ignore')"
   ]
  },
  {
   "cell_type": "code",
   "execution_count": 2,
   "id": "2f4ebc07",
   "metadata": {},
   "outputs": [],
   "source": [
    "train_2017 = []\n",
    "train_2018 = []\n",
    "train_2019 = []\n",
    "train_2020 = []\n",
    "\n",
    "for i, path in enumerate(sorted(glob(\"Data/train/2.FeatureEngineering_train*\"))):\n",
    "    if i == 0:\n",
    "        train_2017 = pd.read_csv(path)\n",
    "        pass\n",
    "    elif i==1:\n",
    "        train_2018 = pd.read_csv(path)\n",
    "        pass\n",
    "    elif i==2:\n",
    "        train_2019 = pd.read_csv(path)\n",
    "        pass\n",
    "    else:\n",
    "        train_2020 = pd.read_csv(path)\n",
    "        pass\n",
    "    \n",
    "test_2017 = []\n",
    "test_2018 = []\n",
    "test_2019 = []\n",
    "test_2020 = []\n",
    "\n",
    "for i, path in enumerate(sorted(glob(\"Data/test/2.FeatureEngineering_test*\"))):\n",
    "    if i == 0:\n",
    "        test_2017 = pd.read_csv(path)\n",
    "        pass\n",
    "    elif i==1:\n",
    "        test_2018 = pd.read_csv(path)\n",
    "        pass\n",
    "    elif i==2:\n",
    "        test_2019 = pd.read_csv(path)\n",
    "        pass\n",
    "    else:\n",
    "        test_2020 = pd.read_csv(path)\n",
    "        pass"
   ]
  },
  {
   "cell_type": "code",
   "execution_count": 3,
   "id": "1ea1db6b",
   "metadata": {},
   "outputs": [],
   "source": [
    "sub = pd.read_csv('Data/sample_submission.csv')"
   ]
  },
  {
   "cell_type": "code",
   "execution_count": 4,
   "id": "e3522ea2",
   "metadata": {},
   "outputs": [],
   "source": [
    "train = [train_2017, train_2018, train_2019, train_2020]\n",
    "test = [test_2017, test_2018, test_2019, test_2020]\n",
    "\n",
    "scale = MinMaxScaler()"
   ]
  },
  {
   "cell_type": "code",
   "execution_count": 5,
   "id": "14fe2e16",
   "metadata": {
    "scrolled": true
   },
   "outputs": [
    {
     "name": "stdout",
     "output_type": "stream",
     "text": [
      "0 번째 정확도 : 0.5858798735511064\n",
      "0 번째 끝\n",
      "1 번째 정확도 : 0.6203856749311295\n",
      "1 번째 끝\n",
      "2 번째 정확도 : 0.5981538461538461\n",
      "2 번째 끝\n"
     ]
    },
    {
     "ename": "AttributeError",
     "evalue": "'list' object has no attribute 'drop'",
     "output_type": "error",
     "traceback": [
      "\u001b[0;31m---------------------------------------------------------------------------\u001b[0m",
      "\u001b[0;31mAttributeError\u001b[0m                            Traceback (most recent call last)",
      "\u001b[0;32m<ipython-input-5-afd743a69edf>\u001b[0m in \u001b[0;36m<module>\u001b[0;34m\u001b[0m\n\u001b[1;32m     17\u001b[0m \u001b[0;31m#         test['new_bq23'] = test[['bq23_1', 'bq23_2', 'bq23_3']].T.mean()\u001b[0m\u001b[0;34m\u001b[0m\u001b[0;34m\u001b[0m\u001b[0;34m\u001b[0m\u001b[0m\n\u001b[1;32m     18\u001b[0m \u001b[0;34m\u001b[0m\u001b[0m\n\u001b[0;32m---> 19\u001b[0;31m     \u001b[0mtrain_x\u001b[0m \u001b[0;34m=\u001b[0m \u001b[0mtrain\u001b[0m\u001b[0;34m.\u001b[0m\u001b[0mdrop\u001b[0m\u001b[0;34m(\u001b[0m\u001b[0;34m[\u001b[0m\u001b[0;34m'idx'\u001b[0m\u001b[0;34m,\u001b[0m \u001b[0;34m'knowcode'\u001b[0m\u001b[0;34m]\u001b[0m\u001b[0;34m,\u001b[0m \u001b[0maxis\u001b[0m \u001b[0;34m=\u001b[0m \u001b[0;36m1\u001b[0m\u001b[0;34m)\u001b[0m\u001b[0;34m\u001b[0m\u001b[0;34m\u001b[0m\u001b[0m\n\u001b[0m\u001b[1;32m     20\u001b[0m     \u001b[0mtrain_y\u001b[0m \u001b[0;34m=\u001b[0m \u001b[0mtrain\u001b[0m\u001b[0;34m[\u001b[0m\u001b[0;34m'knowcode'\u001b[0m\u001b[0;34m]\u001b[0m\u001b[0;34m\u001b[0m\u001b[0;34m\u001b[0m\u001b[0m\n\u001b[1;32m     21\u001b[0m \u001b[0;34m\u001b[0m\u001b[0m\n",
      "\u001b[0;31mAttributeError\u001b[0m: 'list' object has no attribute 'drop'"
     ]
    }
   ],
   "source": [
    "for n, (train, test) in enumerate(zip(train, test)):\n",
    "    train_x = train.drop(['idx', 'knowcode'], axis = 1)\n",
    "    train_y = train['knowcode']\n",
    "\n",
    "    test_x = test.drop(['idx'], axis = 1)\n",
    "    #\n",
    "    train_x, valid_x, train_y, valid_y = train_test_split(train_x, train_y, test_size = 0.2, shuffle=True)\n",
    "\n",
    "    train_x = scale.fit_transform(train_x)\n",
    "   #\n",
    "    valid_x = scale.transform(valid_x)\n",
    "    test_x = scale.transform(test_x)\n",
    "    \n",
    "    RF = RandomForestClassifier(n_estimators = 4000)\n",
    "    RF.fit(train_x, train_y)\n",
    "    #\n",
    "    pred = RF.predict(valid_x)\n",
    "    print(n, '번째 정확도 :', accuracy_score(valid_y, pred))\n",
    "    print(n, '번째 끝')\n",
    "    if n == 0 :\n",
    "        sub['knowcode'][:len(test_2017)] = RF.predict(test_x)\n",
    "    elif n == 1 :\n",
    "        sub['knowcode'][len(test_2017):len(test_2017) + len(test_2018)] = RF.predict(test_x)\n",
    "    elif n == 2 :\n",
    "        sub['knowcode'][len(test_2017) + len(test_2018):len(test_2017) + len(test_2018) + len(test_2019)] = RF.predict(test_x)    \n",
    "    elif n == 3 :\n",
    "        sub['knowcode'][len(test_2017) + len(test_2018) + len(test_2019) :len(test_2017) + len(test_2018) + len(test_2019) + len(test_2020)] = RF.predict(test_x)    "
   ]
  },
  {
   "cell_type": "code",
   "execution_count": null,
   "id": "829274b5",
   "metadata": {},
   "outputs": [],
   "source": [
    "sub.to_csv('Data/Final_submission.csv', index = False)"
   ]
  }
 ],
 "metadata": {
  "kernelspec": {
   "display_name": "Python 3",
   "language": "python",
   "name": "python3"
  },
  "language_info": {
   "codemirror_mode": {
    "name": "ipython",
    "version": 3
   },
   "file_extension": ".py",
   "mimetype": "text/x-python",
   "name": "python",
   "nbconvert_exporter": "python",
   "pygments_lexer": "ipython3",
   "version": "3.6.9"
  }
 },
 "nbformat": 4,
 "nbformat_minor": 5
}
