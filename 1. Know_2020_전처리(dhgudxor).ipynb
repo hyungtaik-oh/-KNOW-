{
 "cells": [
  {
   "cell_type": "code",
   "execution_count": 1,
   "id": "a0901efd",
   "metadata": {},
   "outputs": [],
   "source": [
    "import warnings\n",
    "import gc\n",
    "import os\n",
    "import random\n",
    "import sys\n",
    "\n",
    "import numpy as np\n",
    "import pandas as pd\n",
    "import seaborn as sns\n",
    "import matplotlib.pyplot as plt\n",
    "\n",
    "from sklearn.model_selection import train_test_split\n",
    "from datetime import datetime\n",
    "from glob import glob\n",
    "from tqdm import tqdm\n",
    "\n",
    "warnings.filterwarnings(action = 'ignore')"
   ]
  },
  {
   "cell_type": "code",
   "execution_count": 2,
   "id": "6cba63c1",
   "metadata": {},
   "outputs": [],
   "source": [
    "train_2017 = []\n",
    "train_2018 = []\n",
    "train_2019 = []\n",
    "train_2020 = []\n",
    "\n",
    "for i, path in enumerate(sorted(glob(\"Data/train/KNOW*.csv\"))):\n",
    "    if i == 0:\n",
    "        train_2017 = pd.read_csv(path)\n",
    "        pass\n",
    "    elif i==1:\n",
    "        train_2018 = pd.read_csv(path)\n",
    "        pass\n",
    "    elif i==2:\n",
    "        train_2019 = pd.read_csv(path)\n",
    "        pass\n",
    "    else:\n",
    "        train_2020 = pd.read_csv(path)\n",
    "        pass\n",
    "    \n",
    "test_2017 = []\n",
    "test_2018 = []\n",
    "test_2019 = []\n",
    "test_2020 = []\n",
    "\n",
    "for i, path in enumerate(sorted(glob(\"Data/test/KNOW*.csv\"))):\n",
    "    if i == 0:\n",
    "        test_2017 = pd.read_csv(path)\n",
    "        pass\n",
    "    elif i==1:\n",
    "        test_2018 = pd.read_csv(path)\n",
    "        pass\n",
    "    elif i==2:\n",
    "        test_2019 = pd.read_csv(path)\n",
    "        pass\n",
    "    else:\n",
    "        test_2020 = pd.read_csv(path)\n",
    "        pass"
   ]
  },
  {
   "cell_type": "markdown",
   "id": "067f8ae2",
   "metadata": {},
   "source": [
    "### 2020년 데이터 결측치 처리"
   ]
  },
  {
   "cell_type": "markdown",
   "id": "bd223a02",
   "metadata": {},
   "source": [
    "- 중앙값으로 결측치 처리\n",
    "- data leakage 고려하여 train 데이터로 결측치 처리"
   ]
  },
  {
   "cell_type": "code",
   "execution_count": 3,
   "id": "d146e464",
   "metadata": {},
   "outputs": [],
   "source": [
    "for col in train_2020:\n",
    "        train_2020[col].replace(' ', np.nan, inplace = True)\n",
    "        if col != 'knowcode':\n",
    "            test_2020[col].replace(' ', np.nan, inplace = True)"
   ]
  },
  {
   "cell_type": "code",
   "execution_count": 4,
   "id": "b1ed3f62",
   "metadata": {},
   "outputs": [],
   "source": [
    "train_2020.loc[lambda x : (x['saq'+str(40)+'_2'].notnull()) & (x['saq'+str(40)+'_1'] == 1), 'saq40_2'] = np.nan\n",
    "for i in range(1, 45):\n",
    "    train_2020.loc[lambda x : (x['saq'+str(i)+'_2'].isnull()) & (x['saq'+str(i)+'_1'] == 1), 'saq'+str(i)+'_2'] = 0\n",
    "\n",
    "test_2020.loc[lambda x : (x['saq'+str(40)+'_2'].isnull()) & (x['saq'+str(40)+'_1'] != 1), 'saq40_2'] = 4\n",
    "for i in range(1, 45):\n",
    "    test_2020.loc[lambda x : (x['saq'+str(i)+'_2'].isnull()) & (x['saq'+str(i)+'_1'] == 1), 'saq'+str(i)+'_2'] = 0"
   ]
  },
  {
   "cell_type": "code",
   "execution_count": 5,
   "id": "65c6fad7",
   "metadata": {},
   "outputs": [],
   "source": [
    "train_2020.loc[(train_2020['bq4'] == 2) & (train_2020['bq4_1a'].isnull()), 'bq4_1a'] = '없음'\n",
    "test_2020.loc[(test_2020['bq4'] == 2) & (test_2020['bq4_1a'].isnull()), 'bq4_1a'] = '없음'\n",
    "train_2020.loc[(train_2020['bq4'] == 2) & (train_2020['bq4_1b'].isnull()), 'bq4_1b'] = '없음'\n",
    "train_2020.loc[(train_2020['bq4'] == 2) & (train_2020['bq4_1c'].isnull()), 'bq4_1c'] = '없음'\n",
    "test_2020.loc[(test_2020['bq4'] == 2) & (test_2020['bq4_1b'].isnull()), 'bq4_1b'] = '없음'\n",
    "test_2020.loc[(test_2020['bq4'] == 2) & (test_2020['bq4_1c'].isnull()), 'bq4_1c'] = '없음'"
   ]
  },
  {
   "cell_type": "code",
   "execution_count": 6,
   "id": "082217e1",
   "metadata": {},
   "outputs": [],
   "source": [
    "train_2020.loc[(train_2020['bq4_1b'].isnull()), 'bq4_1b'] = '없음'\n",
    "train_2020.loc[(train_2020['bq4_1c'].isnull()), 'bq4_1c'] = '없음'\n",
    "test_2020.loc[(test_2020['bq4_1b'].isnull()), 'bq4_1b'] = '없음'\n",
    "test_2020.loc[(test_2020['bq4_1c'].isnull()), 'bq4_1c'] = '없음'"
   ]
  },
  {
   "cell_type": "code",
   "execution_count": 7,
   "id": "9ee467f1",
   "metadata": {},
   "outputs": [],
   "source": [
    "for col in test_2020:\n",
    "    train_2020[col].replace('없다','없음', inplace = True)\n",
    "    test_2020[col].replace('없다','없음', inplace = True)    "
   ]
  },
  {
   "cell_type": "code",
   "execution_count": 8,
   "id": "5908f061",
   "metadata": {},
   "outputs": [],
   "source": [
    "train_2020.loc[(train_2020['bq5'] == 2) & (train_2020['bq5_1'].isnull()),'bq5_1'] = 0\n",
    "test_2020.loc[(test_2020['bq5'] == 2) & (test_2020['bq5_1'].isnull()),'bq5_1'] = 0\n",
    "\n",
    "train_2020.loc[(train_2020['bq5'] == 2) & (train_2020['bq5_2'].isnull()),'bq5_2'] = '없음'\n",
    "test_2020.loc[(test_2020['bq5'] == 2) & (test_2020['bq5_2'].isnull()),'bq5_2'] = '없음'"
   ]
  },
  {
   "cell_type": "code",
   "execution_count": 9,
   "id": "1cf22267",
   "metadata": {},
   "outputs": [],
   "source": [
    "train_2020.loc[lambda x : x.bq26_1.isnull(), 'bq26_1'] = '없음'\n",
    "test_2020.loc[lambda x : x.bq26_1.isnull(), 'bq26_1'] = '없음'"
   ]
  },
  {
   "cell_type": "code",
   "execution_count": 10,
   "id": "c9b177c4",
   "metadata": {},
   "outputs": [],
   "source": [
    "train_2020.loc[lambda x : (x.bq28.isnull()) & (x.bq27_1 == 1), 'bq28'] = 2\n",
    "test_2020.loc[lambda x : (x.bq28.isnull()) & (x.bq27_1 == 1), 'bq28'] = 2\n",
    "train_2020.loc[lambda x : (x.bq28.isnull()) & (x.bq27_1 == 2), 'bq28'] = 1\n",
    "test_2020.loc[lambda x : (x.bq28.isnull()) & (x.bq27_1 == 2), 'bq28'] = 1"
   ]
  },
  {
   "cell_type": "code",
   "execution_count": 11,
   "id": "3bf313f8",
   "metadata": {},
   "outputs": [],
   "source": [
    "# total_2020 = pd.concat([train_2020, test_2020], axis=0)\n",
    "total_2020 = train_2020\n",
    "bq1_list = total_2020.bq1.unique()\n",
    "\n",
    "for bq1 in bq1_list:\n",
    "    mean_bq30_1 = round(total_2020.loc[lambda x: (x.bq1 == bq1) & (x.bq30_1.notnull())].bq30_1.apply(lambda x: int(x)).mean())\n",
    "    train_2020.loc[lambda x : (x.bq1 == bq1) & (x.bq30_1.isnull()), 'bq30_1'] = mean_bq30_1\n",
    "    test_2020.loc[lambda x : (x.bq1 == bq1) & (x.bq30_1.isnull()), 'bq30_1'] = mean_bq30_1\n",
    "    \n",
    "    mean_bq30_2 = round(total_2020.loc[lambda x: (x.bq1 == bq1) & (x.bq30_2.notnull())].bq30_2.apply(lambda x: int(x)).mean())\n",
    "    train_2020.loc[lambda x : (x.bq1 == bq1) & (x.bq30_2.isnull()), 'bq30_2'] = mean_bq30_2\n",
    "    test_2020.loc[lambda x : (x.bq1 == bq1) & (x.bq30_2.isnull()), 'bq30_2'] = mean_bq30_2\n",
    "    \n",
    "    try:\n",
    "        mean_bq30_3 = round(total_2020.loc[lambda x: (x.bq1 == bq1) & (x.bq30_3.notnull())].bq30_3.apply(lambda x: int(x)).mean())\n",
    "    except:\n",
    "        mean_bq30_3 = mean_bq30_2\n",
    "        \n",
    "    train_2020.loc[lambda x : (x.bq1 == bq1) & (x.bq30_3.isnull()), 'bq30_3'] = mean_bq30_3\n",
    "    test_2020.loc[lambda x : (x.bq1 == bq1) & (x.bq30_3.isnull()), 'bq30_3'] = mean_bq30_3"
   ]
  },
  {
   "cell_type": "code",
   "execution_count": 12,
   "id": "f734130b",
   "metadata": {},
   "outputs": [],
   "source": [
    "train_2020['bq18_10'] = train_2020['bq18_10'].fillna('없음')\n",
    "test_2020['bq18_10'] = test_2020['bq18_10'].fillna('없음')"
   ]
  },
  {
   "cell_type": "markdown",
   "id": "7f1ae7c8",
   "metadata": {},
   "source": [
    "### 2020년 데이터 object 컬럼 처리"
   ]
  },
  {
   "cell_type": "code",
   "execution_count": 13,
   "id": "1cbaf837",
   "metadata": {},
   "outputs": [],
   "source": [
    "convert = []\n",
    "for col in train_2020.select_dtypes('object'):\n",
    "    if train_2020[col].nunique() < 20:\n",
    "        train_2020[col] = train_2020[col].astype(float)\n",
    "        \n",
    "for col in ['bq30_1', 'bq30_2', 'bq30_3']:\n",
    "    train_2020[col] = train_2020[col].astype(float)"
   ]
  },
  {
   "cell_type": "code",
   "execution_count": 14,
   "id": "3d636687",
   "metadata": {},
   "outputs": [],
   "source": [
    "convert = []\n",
    "for col in test_2020.select_dtypes('object'):\n",
    "    if test_2020[col].nunique() < 20:\n",
    "        test_2020[col] = test_2020[col].astype(float)\n",
    "        \n",
    "for col in ['bq30_1', 'bq30_2', 'bq30_3']:\n",
    "    test_2020[col] = test_2020[col].astype(float)"
   ]
  },
  {
   "cell_type": "code",
   "execution_count": 15,
   "id": "f6d6eb0f",
   "metadata": {},
   "outputs": [],
   "source": [
    "train_2020.to_csv('Data/train/1.preprocessing_train_2020.csv', index = False)\n",
    "test_2020.to_csv('Data/test/1.preprocessing_test_2020.csv', index = False)"
   ]
  }
 ],
 "metadata": {
  "kernelspec": {
   "display_name": "Python 3",
   "language": "python",
   "name": "python3"
  },
  "language_info": {
   "codemirror_mode": {
    "name": "ipython",
    "version": 3
   },
   "file_extension": ".py",
   "mimetype": "text/x-python",
   "name": "python",
   "nbconvert_exporter": "python",
   "pygments_lexer": "ipython3",
   "version": "3.6.9"
  }
 },
 "nbformat": 4,
 "nbformat_minor": 5
}
